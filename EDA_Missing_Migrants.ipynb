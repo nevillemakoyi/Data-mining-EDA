{
 "cells": [
  {
   "cell_type": "markdown",
   "id": "006821b9-5d4e-4e2b-9222-848587d3199e",
   "metadata": {},
   "source": [
    "# Analyse Exploratoire des données"
   ]
  },
  {
   "cell_type": "markdown",
   "id": "54228899-ca47-4401-a177-c2df96faf8f1",
   "metadata": {},
   "source": [
    "##### <i>Dataset : migrants disparus</i>\n",
    "##### <i>Source : Kaggle </i>"
   ]
  },
  {
   "cell_type": "markdown",
   "id": "193e7826-a3f1-436f-b6a3-d776a9a2a617",
   "metadata": {},
   "source": [
    "### INTRODUCTION : "
   ]
  },
  {
   "cell_type": "markdown",
   "id": "7c6fd684-4b66-4d43-bb2e-9592d7725bc3",
   "metadata": {},
   "source": [
    "L’analyse exploratoire des données est faite pour avoir  la compréhension de données avant d’entreprendre des analyses plus complexes.  Dans ce TP, nous allons utiliser des outils tels que Pandas et matplotlib."
   ]
  },
  {
   "cell_type": "markdown",
   "id": "18ca5505-a953-4ed0-8373-804b8806b801",
   "metadata": {},
   "source": [
    "### Importation des libraries"
   ]
  },
  {
   "cell_type": "code",
   "execution_count": 6,
   "id": "1f544b8f-ee70-44c6-a55f-48113eb86b83",
   "metadata": {
    "tags": []
   },
   "outputs": [],
   "source": [
    "import pandas as pd\n",
    "import numpy as np\n",
    "import matplotlib.pyplot as plt\n",
    "import mplcyberpunk\n"
   ]
  },
  {
   "cell_type": "markdown",
   "id": "d511de7a-ff40-4741-a6bd-89ff2954561a",
   "metadata": {},
   "source": [
    "### Importation de données"
   ]
  },
  {
   "cell_type": "code",
   "execution_count": 8,
   "id": "7baf1eb7-fcee-4bac-bdf4-5150ebfc6cd7",
   "metadata": {
    "tags": []
   },
   "outputs": [],
   "source": [
    "data_path = r'E:\\Documents\\1. MyOffice\\1. Private\\7. Plan de developpement Personnel\\3. Masters Et Certification\\ISIG\\06. Data Mining et Machine Learning\\datasets\\Global Missing Migrants Dataset.csv'\n",
    "data = pd.read_csv(data_path)\n",
    "df = data.copy()"
   ]
  },
  {
   "cell_type": "code",
   "execution_count": 9,
   "id": "a832b172-0171-45b9-a2cb-98713623f922",
   "metadata": {},
   "outputs": [
    {
     "data": {
      "text/html": [
       "<div>\n",
       "<style scoped>\n",
       "    .dataframe tbody tr th:only-of-type {\n",
       "        vertical-align: middle;\n",
       "    }\n",
       "\n",
       "    .dataframe tbody tr th {\n",
       "        vertical-align: top;\n",
       "    }\n",
       "\n",
       "    .dataframe thead th {\n",
       "        text-align: right;\n",
       "    }\n",
       "</style>\n",
       "<table border=\"1\" class=\"dataframe\">\n",
       "  <thead>\n",
       "    <tr style=\"text-align: right;\">\n",
       "      <th></th>\n",
       "      <th>Incident Type</th>\n",
       "      <th>Incident year</th>\n",
       "      <th>Reported Month</th>\n",
       "      <th>Region of Origin</th>\n",
       "      <th>Region of Incident</th>\n",
       "      <th>Country of Origin</th>\n",
       "      <th>Number of Dead</th>\n",
       "      <th>Minimum Estimated Number of Missing</th>\n",
       "      <th>Total Number of Dead and Missing</th>\n",
       "      <th>Number of Survivors</th>\n",
       "      <th>Number of Females</th>\n",
       "      <th>Number of Males</th>\n",
       "      <th>Number of Children</th>\n",
       "      <th>Cause of Death</th>\n",
       "      <th>Migration route</th>\n",
       "      <th>Location of death</th>\n",
       "      <th>Information Source</th>\n",
       "      <th>Coordinates</th>\n",
       "      <th>UNSD Geographical Grouping</th>\n",
       "    </tr>\n",
       "  </thead>\n",
       "  <tbody>\n",
       "    <tr>\n",
       "      <th>0</th>\n",
       "      <td>Incident</td>\n",
       "      <td>2014</td>\n",
       "      <td>January</td>\n",
       "      <td>Central America</td>\n",
       "      <td>North America</td>\n",
       "      <td>Guatemala</td>\n",
       "      <td>1.0</td>\n",
       "      <td>0</td>\n",
       "      <td>1</td>\n",
       "      <td>0</td>\n",
       "      <td>0</td>\n",
       "      <td>1</td>\n",
       "      <td>0</td>\n",
       "      <td>Mixed or unknown</td>\n",
       "      <td>US-Mexico border crossing</td>\n",
       "      <td>Pima Country Office of the Medical Examiner ju...</td>\n",
       "      <td>Pima County Office of the Medical Examiner (PC...</td>\n",
       "      <td>31.650259, -110.366453</td>\n",
       "      <td>Northern America</td>\n",
       "    </tr>\n",
       "    <tr>\n",
       "      <th>1</th>\n",
       "      <td>Incident</td>\n",
       "      <td>2014</td>\n",
       "      <td>January</td>\n",
       "      <td>Latin America / Caribbean (P)</td>\n",
       "      <td>North America</td>\n",
       "      <td>Unknown</td>\n",
       "      <td>1.0</td>\n",
       "      <td>0</td>\n",
       "      <td>1</td>\n",
       "      <td>0</td>\n",
       "      <td>0</td>\n",
       "      <td>0</td>\n",
       "      <td>0</td>\n",
       "      <td>Mixed or unknown</td>\n",
       "      <td>US-Mexico border crossing</td>\n",
       "      <td>Pima Country Office of the Medical Examiner ju...</td>\n",
       "      <td>Pima County Office of the Medical Examiner (PC...</td>\n",
       "      <td>31.59713, -111.73756</td>\n",
       "      <td>Northern America</td>\n",
       "    </tr>\n",
       "    <tr>\n",
       "      <th>2</th>\n",
       "      <td>Incident</td>\n",
       "      <td>2014</td>\n",
       "      <td>January</td>\n",
       "      <td>Latin America / Caribbean (P)</td>\n",
       "      <td>North America</td>\n",
       "      <td>Unknown</td>\n",
       "      <td>1.0</td>\n",
       "      <td>0</td>\n",
       "      <td>1</td>\n",
       "      <td>0</td>\n",
       "      <td>0</td>\n",
       "      <td>0</td>\n",
       "      <td>0</td>\n",
       "      <td>Mixed or unknown</td>\n",
       "      <td>US-Mexico border crossing</td>\n",
       "      <td>Pima Country Office of the Medical Examiner ju...</td>\n",
       "      <td>Pima County Office of the Medical Examiner (PC...</td>\n",
       "      <td>31.94026, -113.01125</td>\n",
       "      <td>Northern America</td>\n",
       "    </tr>\n",
       "  </tbody>\n",
       "</table>\n",
       "</div>"
      ],
      "text/plain": [
       "  Incident Type  Incident year Reported Month               Region of Origin  \\\n",
       "0      Incident           2014        January                Central America   \n",
       "1      Incident           2014        January  Latin America / Caribbean (P)   \n",
       "2      Incident           2014        January  Latin America / Caribbean (P)   \n",
       "\n",
       "  Region of Incident Country of Origin  Number of Dead  \\\n",
       "0      North America         Guatemala             1.0   \n",
       "1      North America           Unknown             1.0   \n",
       "2      North America           Unknown             1.0   \n",
       "\n",
       "   Minimum Estimated Number of Missing  Total Number of Dead and Missing  \\\n",
       "0                                    0                                 1   \n",
       "1                                    0                                 1   \n",
       "2                                    0                                 1   \n",
       "\n",
       "   Number of Survivors  Number of Females  Number of Males  \\\n",
       "0                    0                  0                1   \n",
       "1                    0                  0                0   \n",
       "2                    0                  0                0   \n",
       "\n",
       "   Number of Children    Cause of Death            Migration route  \\\n",
       "0                   0  Mixed or unknown  US-Mexico border crossing   \n",
       "1                   0  Mixed or unknown  US-Mexico border crossing   \n",
       "2                   0  Mixed or unknown  US-Mexico border crossing   \n",
       "\n",
       "                                   Location of death  \\\n",
       "0  Pima Country Office of the Medical Examiner ju...   \n",
       "1  Pima Country Office of the Medical Examiner ju...   \n",
       "2  Pima Country Office of the Medical Examiner ju...   \n",
       "\n",
       "                                  Information Source             Coordinates  \\\n",
       "0  Pima County Office of the Medical Examiner (PC...  31.650259, -110.366453   \n",
       "1  Pima County Office of the Medical Examiner (PC...    31.59713, -111.73756   \n",
       "2  Pima County Office of the Medical Examiner (PC...    31.94026, -113.01125   \n",
       "\n",
       "  UNSD Geographical Grouping  \n",
       "0           Northern America  \n",
       "1           Northern America  \n",
       "2           Northern America  "
      ]
     },
     "execution_count": 9,
     "metadata": {},
     "output_type": "execute_result"
    }
   ],
   "source": [
    "df.head(3)"
   ]
  },
  {
   "cell_type": "markdown",
   "id": "b4ed90ac-7633-4a86-999e-9a66ad90fd2d",
   "metadata": {},
   "source": [
    "### Exploration"
   ]
  },
  {
   "cell_type": "markdown",
   "id": "0229b114-50b2-4ee3-9c2d-15647d2620a6",
   "metadata": {},
   "source": [
    "Notre de données fournit les informations des migrants disparus et de leurs périples tragiques vers des destinations internationales, collecté par le Projet Migrants Disparus, une initiative mise en œuvre par l'Organisation internationale pour les migrations (OIM) depuis 2014. Cet ensemble de données documente les décès et les disparitions, mettant en lumière les difficultés rencontrées par les migrants durant leur périple."
   ]
  },
  {
   "cell_type": "markdown",
   "id": "450b33b2-15ca-4a31-8a03-ed9d3c610e3d",
   "metadata": {
    "tags": []
   },
   "source": [
    "##### <i>la taille de la bd</i>"
   ]
  },
  {
   "cell_type": "code",
   "execution_count": 13,
   "id": "6dca0396-e939-4eaf-b4a7-d10c07bbbff9",
   "metadata": {
    "tags": []
   },
   "outputs": [
    {
     "name": "stdout",
     "output_type": "stream",
     "text": [
      "(13020, 19)\n",
      "247380\n",
      "\n"
     ]
    }
   ],
   "source": [
    "print(df.shape) # la taille de la bd ( lignes et colonnes)\n",
    "print(df.size) # le nombre d'elements de la bd\n",
    "print()"
   ]
  },
  {
   "cell_type": "markdown",
   "id": "1694882a-6409-4590-b338-e901fe438020",
   "metadata": {
    "tags": []
   },
   "source": [
    "##### <i>liste des variables / colonnes de la bd et type des variables </i>"
   ]
  },
  {
   "cell_type": "code",
   "execution_count": 15,
   "id": "60ab6c1d-ddbd-4b68-8b8d-dbcc0770c1c6",
   "metadata": {
    "tags": []
   },
   "outputs": [
    {
     "name": "stdout",
     "output_type": "stream",
     "text": [
      "Incident Type                           object\n",
      "Incident year                            int64\n",
      "Reported Month                          object\n",
      "Region of Origin                        object\n",
      "Region of Incident                      object\n",
      "Country of Origin                       object\n",
      "Number of Dead                         float64\n",
      "Minimum Estimated Number of Missing      int64\n",
      "Total Number of Dead and Missing         int64\n",
      "Number of Survivors                      int64\n",
      "Number of Females                        int64\n",
      "Number of Males                          int64\n",
      "Number of Children                       int64\n",
      "Cause of Death                          object\n",
      "Migration route                         object\n",
      "Location of death                       object\n",
      "Information Source                      object\n",
      "Coordinates                             object\n",
      "UNSD Geographical Grouping              object\n",
      "dtype: object\n",
      "\n"
     ]
    }
   ],
   "source": [
    "print(df.dtypes)\n",
    "print()"
   ]
  },
  {
   "cell_type": "markdown",
   "id": "aa2e330d-7831-473a-92b7-29a00e0691b9",
   "metadata": {},
   "source": [
    "### Valuers Manquantes"
   ]
  },
  {
   "cell_type": "markdown",
   "id": "19d12f2c-5369-4bc2-9eb4-c3ddd681bba5",
   "metadata": {},
   "source": [
    "##### <i>les nombres des valeurs manquantes pour chaque colonnes </i>"
   ]
  },
  {
   "cell_type": "code",
   "execution_count": 18,
   "id": "9590504b-4743-4584-abfa-a78b6fc87f3c",
   "metadata": {
    "tags": []
   },
   "outputs": [
    {
     "name": "stdout",
     "output_type": "stream",
     "text": [
      "Incident Type                             0\n",
      "Incident year                             0\n",
      "Reported Month                            0\n",
      "Region of Origin                         22\n",
      "Region of Incident                        0\n",
      "Country of Origin                         8\n",
      "Number of Dead                          550\n",
      "Minimum Estimated Number of Missing       0\n",
      "Total Number of Dead and Missing          0\n",
      "Number of Survivors                       0\n",
      "Number of Females                         0\n",
      "Number of Males                           0\n",
      "Number of Children                        0\n",
      "Cause of Death                            0\n",
      "Migration route                        3021\n",
      "Location of death                         0\n",
      "Information Source                        8\n",
      "Coordinates                              36\n",
      "UNSD Geographical Grouping                1\n",
      "dtype: int64\n",
      "\n"
     ]
    }
   ],
   "source": [
    "print(df.isna().sum())\n",
    "print()"
   ]
  },
  {
   "cell_type": "markdown",
   "id": "683b2bd8-a40e-47a3-8e68-578bd0752f9e",
   "metadata": {},
   "source": [
    "##### <i>les nombres des valeurs manquantes pour chaque colonnes en ( % ) </i>"
   ]
  },
  {
   "cell_type": "code",
   "execution_count": 20,
   "id": "ee12f5e4-e9f6-4ebc-9cfd-eac1a651a7d1",
   "metadata": {
    "tags": []
   },
   "outputs": [
    {
     "name": "stdout",
     "output_type": "stream",
     "text": [
      "Incident Type                           0.000000\n",
      "Incident year                           0.000000\n",
      "Reported Month                          0.000000\n",
      "Region of Origin                        0.168971\n",
      "Region of Incident                      0.000000\n",
      "Country of Origin                       0.061444\n",
      "Number of Dead                          4.224270\n",
      "Minimum Estimated Number of Missing     0.000000\n",
      "Total Number of Dead and Missing        0.000000\n",
      "Number of Survivors                     0.000000\n",
      "Number of Females                       0.000000\n",
      "Number of Males                         0.000000\n",
      "Number of Children                      0.000000\n",
      "Cause of Death                          0.000000\n",
      "Migration route                        23.202765\n",
      "Location of death                       0.000000\n",
      "Information Source                      0.061444\n",
      "Coordinates                             0.276498\n",
      "UNSD Geographical Grouping              0.007680\n",
      "dtype: float64\n",
      "\n"
     ]
    }
   ],
   "source": [
    "print(df.isna().mean()*100)\n",
    "print()"
   ]
  },
  {
   "cell_type": "code",
   "execution_count": 21,
   "id": "74f65634-7de9-4d78-8e7d-306eaf2dac30",
   "metadata": {
    "tags": []
   },
   "outputs": [
    {
     "data": {
      "text/plain": [
       "Incident Type                          False\n",
       "Incident year                          False\n",
       "Reported Month                         False\n",
       "Region of Origin                       False\n",
       "Region of Incident                     False\n",
       "Country of Origin                      False\n",
       "Number of Dead                         False\n",
       "Minimum Estimated Number of Missing    False\n",
       "Total Number of Dead and Missing       False\n",
       "Number of Survivors                    False\n",
       "Number of Females                      False\n",
       "Number of Males                        False\n",
       "Number of Children                     False\n",
       "Cause of Death                         False\n",
       "Migration route                        False\n",
       "Location of death                      False\n",
       "Information Source                     False\n",
       "Coordinates                            False\n",
       "UNSD Geographical Grouping             False\n",
       "dtype: bool"
      ]
     },
     "execution_count": 21,
     "metadata": {},
     "output_type": "execute_result"
    }
   ],
   "source": [
    "df.isna().all() # les colonnes entièrement vide"
   ]
  },
  {
   "cell_type": "code",
   "execution_count": 22,
   "id": "f155255f-ad8e-483f-a95d-13fc1719c28e",
   "metadata": {
    "tags": []
   },
   "outputs": [
    {
     "name": "stdout",
     "output_type": "stream",
     "text": [
      "\n"
     ]
    }
   ],
   "source": [
    "df.isna().all(axis = 1) # les lignes entièrement vide\n",
    "print()"
   ]
  },
  {
   "cell_type": "code",
   "execution_count": 23,
   "id": "21a7ed5a-f7e0-4100-ade0-d98255901026",
   "metadata": {},
   "outputs": [
    {
     "data": {
      "text/plain": [
       "Index(['Incident Type', 'Incident year', 'Reported Month', 'Region of Origin',\n",
       "       'Region of Incident', 'Country of Origin', 'Number of Dead',\n",
       "       'Minimum Estimated Number of Missing',\n",
       "       'Total Number of Dead and Missing', 'Number of Survivors',\n",
       "       'Number of Females', 'Number of Males', 'Number of Children',\n",
       "       'Cause of Death', 'Migration route', 'Location of death',\n",
       "       'Information Source', 'Coordinates', 'UNSD Geographical Grouping'],\n",
       "      dtype='object')"
      ]
     },
     "execution_count": 23,
     "metadata": {},
     "output_type": "execute_result"
    }
   ],
   "source": [
    "df.columns"
   ]
  },
  {
   "cell_type": "markdown",
   "id": "f50f0e0a-ce88-4a66-aab5-d2974662319b",
   "metadata": {},
   "source": [
    "### Nettoyage des donnees"
   ]
  },
  {
   "cell_type": "markdown",
   "id": "da5e2e7b-3a56-4403-adf3-b4bd7daabad3",
   "metadata": {},
   "source": [
    "Nous allons commencer par garder les variables qui vont nous servir dans les analyses et eliminer les autres avec la methode drop() de pandas"
   ]
  },
  {
   "cell_type": "code",
   "execution_count": 26,
   "id": "b101d469-83eb-4f69-9879-2e5bd45f634d",
   "metadata": {},
   "outputs": [],
   "source": [
    "df = df.drop(['Incident Type','Total Number of Dead and Missing', 'Cause of Death', 'Migration route', 'Location of death', 'Information Source', 'Coordinates', 'UNSD Geographical Grouping'], axis = 1)"
   ]
  },
  {
   "cell_type": "code",
   "execution_count": 31,
   "id": "1543a4f6-d100-4f85-aab1-25d4e4d999ef",
   "metadata": {},
   "outputs": [
    {
     "data": {
      "text/plain": [
       "Index(['Incident year', 'Reported Month', 'Region of Origin',\n",
       "       'Region of Incident', 'Country of Origin', 'Number of Dead',\n",
       "       'Minimum Estimated Number of Missing', 'Number of Survivors',\n",
       "       'Number of Females', 'Number of Males', 'Number of Children'],\n",
       "      dtype='object')"
      ]
     },
     "execution_count": 31,
     "metadata": {},
     "output_type": "execute_result"
    }
   ],
   "source": [
    "df.columns"
   ]
  },
  {
   "cell_type": "markdown",
   "id": "ebdee955-f982-42bb-a42f-4a3bcd5d797c",
   "metadata": {},
   "source": [
    "### Statistics avec groupby() et values_counts()"
   ]
  },
  {
   "cell_type": "markdown",
   "id": "6b89d527-0235-473d-99fb-586110d5e799",
   "metadata": {},
   "source": [
    "Nous allons utiliser groupby() et value_vounts pour regrouper les données et faire  d’opérations de calcul sur ces groupes."
   ]
  },
  {
   "cell_type": "code",
   "execution_count": 43,
   "id": "fc512190-f698-4a1a-bca0-e1eb8261f7f3",
   "metadata": {},
   "outputs": [
    {
     "data": {
      "text/plain": [
       "Incident year\n",
       "2014     296\n",
       "2015     821\n",
       "2016    1277\n",
       "2017    1341\n",
       "2018    1637\n",
       "2019    1804\n",
       "2020    1296\n",
       "2021    1800\n",
       "2022    2183\n",
       "2023     565\n",
       "Name: count, dtype: int64"
      ]
     },
     "execution_count": 43,
     "metadata": {},
     "output_type": "execute_result"
    }
   ],
   "source": [
    "# le nbr total d'incidents par années\n",
    "df.groupby(['Incident year'])['Incident year'].value_counts()"
   ]
  },
  {
   "cell_type": "code",
   "execution_count": null,
   "id": "815f5f44-f4e0-41ba-b82b-839ed3eb79a1",
   "metadata": {
    "tags": []
   },
   "outputs": [],
   "source": [
    "#le nbre total des decés\n",
    "deces = df['Number of Dead'].sum()\n",
    "deces"
   ]
  },
  {
   "cell_type": "code",
   "execution_count": null,
   "id": "29ae969f-baf7-4eb1-992c-0a3640a30f54",
   "metadata": {
    "tags": []
   },
   "outputs": [],
   "source": [
    "# le bbre total des survivants\n",
    "survivant = df['Number of Survivors'].sum()\n",
    "survivant"
   ]
  },
  {
   "cell_type": "code",
   "execution_count": null,
   "id": "e35fefaf-2b47-4b0d-86aa-5019a1a03416",
   "metadata": {
    "tags": []
   },
   "outputs": [],
   "source": [
    "# le total des Pers disparues\n",
    "disparues = df['Minimum Estimated Number of Missing'].sum()\n",
    "disparues"
   ]
  },
  {
   "cell_type": "code",
   "execution_count": null,
   "id": "c1555e67-5d5a-4a8f-88b5-32f54bd781d3",
   "metadata": {
    "tags": []
   },
   "outputs": [],
   "source": [
    "total_migrant = deces + survivant + disparues\n",
    "total_migrant"
   ]
  },
  {
   "cell_type": "markdown",
   "id": "911c8bed-15ab-4aef-bceb-05c2ad86154e",
   "metadata": {},
   "source": [
    "### VISUALISATION"
   ]
  },
  {
   "cell_type": "code",
   "execution_count": null,
   "id": "27e33fd8-f56f-4c81-9a27-bf75087b6e33",
   "metadata": {
    "tags": []
   },
   "outputs": [],
   "source": [
    "incident_by_region = df['Region of Incident'].value_counts()\n",
    "x = incident_by_region.index.tolist()\n",
    "y = incident_by_region.values.tolist()\n",
    "\n",
    "\n",
    "fig, ax = plt.subplots(figsize=(10, 4))\n",
    "\n",
    "ax.barh(x, y, color='skyblue')\n",
    "\n",
    "\n",
    "ax.set_title(\"Nombre d'incidents par région\")\n",
    "ax.set_xlabel(\"Nombre d'incidents\")\n",
    "ax.set_ylabel(\"Région\")"
   ]
  },
  {
   "cell_type": "markdown",
   "id": "72e28b13-69ed-43dc-a11e-ca5b6c171503",
   "metadata": {},
   "source": [
    "### deces par region"
   ]
  },
  {
   "cell_type": "code",
   "execution_count": null,
   "id": "8d6a5b23-dad0-4a22-b190-c857170edd20",
   "metadata": {
    "tags": []
   },
   "outputs": [],
   "source": [
    "deces_by_region = df[['Region of Incident','Number of Dead']].groupby('Region of Incident')['Number of Dead'].sum()\n",
    "deces_by_region = deces_by_region.sort_values()"
   ]
  },
  {
   "cell_type": "code",
   "execution_count": null,
   "id": "2d5284b0-b79b-4aa8-878b-eff99564b97a",
   "metadata": {
    "tags": []
   },
   "outputs": [],
   "source": [
    "x = deces_by_region.index.tolist()\n",
    "y = deces_by_region.values.tolist()"
   ]
  },
  {
   "cell_type": "code",
   "execution_count": null,
   "id": "fd3f262a-c1c6-4c1f-b51f-a9ff61782e03",
   "metadata": {
    "tags": []
   },
   "outputs": [],
   "source": [
    "fig, ax = plt.subplots(figsize =(10,4))\n",
    "ax.barh(x,y, color = 'b')"
   ]
  },
  {
   "cell_type": "code",
   "execution_count": null,
   "id": "1675cfa7-1342-4df8-bfaf-8825207e7ecd",
   "metadata": {},
   "outputs": [],
   "source": []
  },
  {
   "cell_type": "code",
   "execution_count": null,
   "id": "311453af-db4e-4c8f-aae6-9b16e2b30010",
   "metadata": {},
   "outputs": [],
   "source": []
  }
 ],
 "metadata": {
  "kernelspec": {
   "display_name": "Python 3 (ipykernel)",
   "language": "python",
   "name": "python3"
  },
  "language_info": {
   "codemirror_mode": {
    "name": "ipython",
    "version": 3
   },
   "file_extension": ".py",
   "mimetype": "text/x-python",
   "name": "python",
   "nbconvert_exporter": "python",
   "pygments_lexer": "ipython3",
   "version": "3.12.7"
  }
 },
 "nbformat": 4,
 "nbformat_minor": 5
}
