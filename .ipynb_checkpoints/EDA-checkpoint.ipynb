{
 "cells": [
  {
   "cell_type": "markdown",
   "id": "a4d61492-3f27-4b68-962b-e063ce73cbf0",
   "metadata": {
    "panel-layout": {
     "height": 44.09375,
     "visible": true,
     "width": 100
    }
   },
   "source": [
    "### Importation des libraries"
   ]
  },
  {
   "cell_type": "code",
   "execution_count": 2,
   "id": "8273c5a7-1cb9-4262-a51d-ca657fa9d587",
   "metadata": {},
   "outputs": [],
   "source": [
    "#!{sys.executable} -m pip install mplcyberpunk"
   ]
  },
  {
   "cell_type": "code",
   "execution_count": 3,
   "id": "1f6499e2-5f39-4cc8-ac95-54e84305952c",
   "metadata": {},
   "outputs": [],
   "source": [
    "import pandas as pd\n",
    "import numpy as np\n",
    "import matplotlib.pyplot as plt\n",
    "import mplcyberpunk"
   ]
  },
  {
   "cell_type": "markdown",
   "id": "39683c7d-8d63-40a6-b832-0dc8ce62caab",
   "metadata": {
    "panel-layout": {
     "height": 44.09375,
     "visible": true,
     "width": 100
    }
   },
   "source": [
    "### Chargement des donnees"
   ]
  },
  {
   "cell_type": "code",
   "execution_count": 5,
   "id": "5d147003-49fa-4ae1-96c5-96809178f22b",
   "metadata": {},
   "outputs": [],
   "source": [
    "data_path = 'TP1/data/catdata.csv'\n",
    "data = pd.read_csv(data_path, sep = ';')\n",
    "df = data.copy()"
   ]
  },
  {
   "cell_type": "markdown",
   "id": "bd455190-467f-49f9-99e7-d3325a872bfb",
   "metadata": {
    "panel-layout": {
     "height": 44.09375,
     "visible": true,
     "width": 100
    }
   },
   "source": [
    "### Exploration des donnees"
   ]
  },
  {
   "cell_type": "code",
   "execution_count": 7,
   "id": "e5d1df2e-edec-4b06-8e98-b79828c94de4",
   "metadata": {
    "panel-layout": {
     "height": 4015,
     "visible": true,
     "width": 100
    }
   },
   "outputs": [
    {
     "data": {
      "text/plain": [
       "haircolor       object\n",
       "hairpattern     object\n",
       "sex             object\n",
       "weight         float64\n",
       "age              int64\n",
       "foodtype        object\n",
       "dtype: object"
      ]
     },
     "execution_count": 7,
     "metadata": {},
     "output_type": "execute_result"
    }
   ],
   "source": [
    "df.dtypes"
   ]
  },
  {
   "cell_type": "markdown",
   "id": "7648486f-2315-4f4d-ba9b-1d56203563cf",
   "metadata": {
    "panel-layout": {
     "height": 44.09375,
     "visible": true,
     "width": 100
    }
   },
   "source": [
    "### Exploration des donnees"
   ]
  },
  {
   "cell_type": "markdown",
   "id": "fee809e1-3255-4631-afe2-f371914aa1c1",
   "metadata": {
    "panel-layout": {
     "height": 40.9375,
     "visible": true,
     "width": 100
    }
   },
   "source": [
    "##### <i>Nbre des lignes, colonees, et la taille de la bd</i>"
   ]
  },
  {
   "cell_type": "code",
   "execution_count": 10,
   "id": "b993697c-492b-4f47-a161-e10d87d083ae",
   "metadata": {
    "panel-layout": {
     "height": 0,
     "visible": true,
     "width": 100
    }
   },
   "outputs": [
    {
     "name": "stdout",
     "output_type": "stream",
     "text": [
      "(153, 6)\n",
      "918\n"
     ]
    }
   ],
   "source": [
    "# la forme des donnees, le nombre des linges et colonnes\n",
    "\n",
    "print(df.shape) # le nombres des lignes ert colonnes\n",
    "print(df.size) # le nombre total d' elements dans le fichier\n"
   ]
  },
  {
   "cell_type": "markdown",
   "id": "54a782d3-d94a-4f04-ab2a-a682e64685ee",
   "metadata": {
    "panel-layout": {
     "height": 40.9375,
     "visible": true,
     "width": 100
    }
   },
   "source": [
    "##### <i>les variables</i>"
   ]
  },
  {
   "cell_type": "code",
   "execution_count": 12,
   "id": "699733c2-00c9-4b7a-9636-70aaca5f13ee",
   "metadata": {
    "panel-layout": {
     "height": 152.046875,
     "visible": true,
     "width": 100
    }
   },
   "outputs": [
    {
     "data": {
      "text/plain": [
       "['haircolor', 'hairpattern', 'sex', 'weight', 'age', 'foodtype']"
      ]
     },
     "execution_count": 12,
     "metadata": {},
     "output_type": "execute_result"
    }
   ],
   "source": [
    "df.columns.tolist()"
   ]
  },
  {
   "cell_type": "markdown",
   "id": "63121f26-bac8-4604-bf16-8ebababc4f94",
   "metadata": {
    "panel-layout": {
     "height": 40.9375,
     "visible": true,
     "width": 100
    }
   },
   "source": [
    "##### <i>analyse des valeurs manquantes</i>"
   ]
  },
  {
   "cell_type": "code",
   "execution_count": 14,
   "id": "fb0c74f5-dfec-4bd9-9346-e9bcfa508f6e",
   "metadata": {
    "panel-layout": {
     "height": 193,
     "visible": true,
     "width": 100
    }
   },
   "outputs": [
    {
     "data": {
      "text/plain": [
       "haircolor      0\n",
       "hairpattern    0\n",
       "sex            0\n",
       "weight         0\n",
       "age            0\n",
       "foodtype       0\n",
       "dtype: int64"
      ]
     },
     "execution_count": 14,
     "metadata": {},
     "output_type": "execute_result"
    }
   ],
   "source": [
    "df.isna().sum() # le nombre des valeurs manquantes dans chaque colonnes"
   ]
  },
  {
   "cell_type": "code",
   "execution_count": 15,
   "id": "25822ec9-def8-4846-93c7-0c2c60acace2",
   "metadata": {
    "panel-layout": {
     "height": 323,
     "visible": true,
     "width": 100
    }
   },
   "outputs": [
    {
     "data": {
      "text/html": [
       "<div>\n",
       "<style scoped>\n",
       "    .dataframe tbody tr th:only-of-type {\n",
       "        vertical-align: middle;\n",
       "    }\n",
       "\n",
       "    .dataframe tbody tr th {\n",
       "        vertical-align: top;\n",
       "    }\n",
       "\n",
       "    .dataframe thead th {\n",
       "        text-align: right;\n",
       "    }\n",
       "</style>\n",
       "<table border=\"1\" class=\"dataframe\">\n",
       "  <thead>\n",
       "    <tr style=\"text-align: right;\">\n",
       "      <th></th>\n",
       "      <th>haircolor</th>\n",
       "      <th>hairpattern</th>\n",
       "      <th>sex</th>\n",
       "      <th>weight</th>\n",
       "      <th>age</th>\n",
       "      <th>foodtype</th>\n",
       "    </tr>\n",
       "  </thead>\n",
       "  <tbody>\n",
       "    <tr>\n",
       "      <th>count</th>\n",
       "      <td>153</td>\n",
       "      <td>153</td>\n",
       "      <td>153</td>\n",
       "      <td>153.000000</td>\n",
       "      <td>153.000000</td>\n",
       "      <td>153</td>\n",
       "    </tr>\n",
       "    <tr>\n",
       "      <th>unique</th>\n",
       "      <td>4</td>\n",
       "      <td>5</td>\n",
       "      <td>2</td>\n",
       "      <td>NaN</td>\n",
       "      <td>NaN</td>\n",
       "      <td>3</td>\n",
       "    </tr>\n",
       "    <tr>\n",
       "      <th>top</th>\n",
       "      <td>black</td>\n",
       "      <td>tabby</td>\n",
       "      <td>male</td>\n",
       "      <td>NaN</td>\n",
       "      <td>NaN</td>\n",
       "      <td>dry</td>\n",
       "    </tr>\n",
       "    <tr>\n",
       "      <th>freq</th>\n",
       "      <td>68</td>\n",
       "      <td>58</td>\n",
       "      <td>85</td>\n",
       "      <td>NaN</td>\n",
       "      <td>NaN</td>\n",
       "      <td>109</td>\n",
       "    </tr>\n",
       "    <tr>\n",
       "      <th>mean</th>\n",
       "      <td>NaN</td>\n",
       "      <td>NaN</td>\n",
       "      <td>NaN</td>\n",
       "      <td>4.805882</td>\n",
       "      <td>6.333333</td>\n",
       "      <td>NaN</td>\n",
       "    </tr>\n",
       "    <tr>\n",
       "      <th>std</th>\n",
       "      <td>NaN</td>\n",
       "      <td>NaN</td>\n",
       "      <td>NaN</td>\n",
       "      <td>0.960827</td>\n",
       "      <td>2.752989</td>\n",
       "      <td>NaN</td>\n",
       "    </tr>\n",
       "    <tr>\n",
       "      <th>min</th>\n",
       "      <td>NaN</td>\n",
       "      <td>NaN</td>\n",
       "      <td>NaN</td>\n",
       "      <td>2.700000</td>\n",
       "      <td>2.000000</td>\n",
       "      <td>NaN</td>\n",
       "    </tr>\n",
       "    <tr>\n",
       "      <th>25%</th>\n",
       "      <td>NaN</td>\n",
       "      <td>NaN</td>\n",
       "      <td>NaN</td>\n",
       "      <td>4.100000</td>\n",
       "      <td>4.000000</td>\n",
       "      <td>NaN</td>\n",
       "    </tr>\n",
       "    <tr>\n",
       "      <th>50%</th>\n",
       "      <td>NaN</td>\n",
       "      <td>NaN</td>\n",
       "      <td>NaN</td>\n",
       "      <td>4.900000</td>\n",
       "      <td>6.000000</td>\n",
       "      <td>NaN</td>\n",
       "    </tr>\n",
       "    <tr>\n",
       "      <th>75%</th>\n",
       "      <td>NaN</td>\n",
       "      <td>NaN</td>\n",
       "      <td>NaN</td>\n",
       "      <td>5.600000</td>\n",
       "      <td>8.000000</td>\n",
       "      <td>NaN</td>\n",
       "    </tr>\n",
       "    <tr>\n",
       "      <th>max</th>\n",
       "      <td>NaN</td>\n",
       "      <td>NaN</td>\n",
       "      <td>NaN</td>\n",
       "      <td>6.800000</td>\n",
       "      <td>14.000000</td>\n",
       "      <td>NaN</td>\n",
       "    </tr>\n",
       "  </tbody>\n",
       "</table>\n",
       "</div>"
      ],
      "text/plain": [
       "       haircolor hairpattern   sex      weight         age foodtype\n",
       "count        153         153   153  153.000000  153.000000      153\n",
       "unique         4           5     2         NaN         NaN        3\n",
       "top        black       tabby  male         NaN         NaN      dry\n",
       "freq          68          58    85         NaN         NaN      109\n",
       "mean         NaN         NaN   NaN    4.805882    6.333333      NaN\n",
       "std          NaN         NaN   NaN    0.960827    2.752989      NaN\n",
       "min          NaN         NaN   NaN    2.700000    2.000000      NaN\n",
       "25%          NaN         NaN   NaN    4.100000    4.000000      NaN\n",
       "50%          NaN         NaN   NaN    4.900000    6.000000      NaN\n",
       "75%          NaN         NaN   NaN    5.600000    8.000000      NaN\n",
       "max          NaN         NaN   NaN    6.800000   14.000000      NaN"
      ]
     },
     "execution_count": 15,
     "metadata": {},
     "output_type": "execute_result"
    }
   ],
   "source": [
    "df.describe(include = 'all')"
   ]
  },
  {
   "cell_type": "markdown",
   "id": "cd853a86-c9dd-48d0-9507-6695afb73ca5",
   "metadata": {
    "panel-layout": {
     "height": 40.9375,
     "visible": true,
     "width": 100
    }
   },
   "source": [
    "### Indicateurs (Analyse Stats)"
   ]
  },
  {
   "cell_type": "code",
   "execution_count": 17,
   "id": "8c7697cd-db77-467e-8a37-c1ccd3596fd4",
   "metadata": {},
   "outputs": [
    {
     "data": {
      "text/plain": [
       "sex\n",
       "male      85\n",
       "female    68\n",
       "Name: count, dtype: int64"
      ]
     },
     "execution_count": 17,
     "metadata": {},
     "output_type": "execute_result"
    }
   ],
   "source": [
    "#Le nombre de personnes par sexe\n",
    "df['sex'].value_counts()"
   ]
  },
  {
   "cell_type": "code",
   "execution_count": 18,
   "id": "dc3e7c05-808f-4faf-bf1b-b6f749c79ba3",
   "metadata": {},
   "outputs": [
    {
     "data": {
      "text/plain": [
       "haircolor\n",
       "black    68\n",
       "red      35\n",
       "white    33\n",
       "brown    17\n",
       "Name: count, dtype: int64"
      ]
     },
     "execution_count": 18,
     "metadata": {},
     "output_type": "execute_result"
    }
   ],
   "source": [
    "#Le nombre de personnes par haircolor\n",
    "df['haircolor'].value_counts()"
   ]
  },
  {
   "cell_type": "code",
   "execution_count": 19,
   "id": "7cff5d6f-57b4-4faa-b59a-0b394219577c",
   "metadata": {},
   "outputs": [
    {
     "data": {
      "text/plain": [
       "hairpattern\n",
       "tabby         58\n",
       "solid         31\n",
       "tipped        27\n",
       "tortoise      23\n",
       "colorpoint    14\n",
       "Name: count, dtype: int64"
      ]
     },
     "execution_count": 19,
     "metadata": {},
     "output_type": "execute_result"
    }
   ],
   "source": [
    "#Le nombre de personnes par hairpattern\n",
    "df['hairpattern'].value_counts()"
   ]
  },
  {
   "cell_type": "code",
   "execution_count": 20,
   "id": "c2c46f16-b8dd-4b5b-a80f-23fb44849e70",
   "metadata": {},
   "outputs": [],
   "source": [
    "#tranche d age\n",
    "tranche = [0, 12, 17, 64, 120]\n",
    "labels = ['Enfant', 'Mineur', 'Adulte', 'Pers Agee']\n",
    "df['Tranche d\\'âge'] = pd.cut(df['age'], bins=tranche, labels=labels)"
   ]
  },
  {
   "cell_type": "code",
   "execution_count": 21,
   "id": "6727c1bc-336e-433d-af49-0ccd1b4ae552",
   "metadata": {},
   "outputs": [
    {
     "data": {
      "text/plain": [
       "Tranche d'âge\n",
       "Enfant       145\n",
       "Mineur         8\n",
       "Adulte         0\n",
       "Pers Agee      0\n",
       "Name: count, dtype: int64"
      ]
     },
     "execution_count": 21,
     "metadata": {},
     "output_type": "execute_result"
    }
   ],
   "source": [
    "# Pers par tranche d age\n",
    "df['Tranche d\\'âge'].value_counts()"
   ]
  },
  {
   "cell_type": "markdown",
   "id": "45b457a2-80c0-4237-b04f-fe62a9488863",
   "metadata": {},
   "source": [
    "### VISUALISATION"
   ]
  },
  {
   "cell_type": "code",
   "execution_count": 23,
   "id": "0b057a0e-65d7-4500-bd37-5f0b2af99912",
   "metadata": {},
   "outputs": [
    {
     "data": {
      "text/plain": [
       "sex\n",
       "male      85\n",
       "female    68\n",
       "Name: count, dtype: int64"
      ]
     },
     "execution_count": 23,
     "metadata": {},
     "output_type": "execute_result"
    }
   ],
   "source": [
    "#Le nombre de personnes par sexe\n",
    "df['sex'].value_counts()"
   ]
  },
  {
   "cell_type": "code",
   "execution_count": 55,
   "id": "bf69cbe3-cb4a-48be-9756-9bcc0598368d",
   "metadata": {},
   "outputs": [
    {
     "data": {
      "image/png": "[encoded data removed]",
      "text/plain": [
       "<Figure size 500x200 with 1 Axes>"
      ]
     },
     "metadata": {},
     "output_type": "display_data"
    }
   ],
   "source": [
    "with plt.style.context('cyberpunk'):\n",
    "    fig, ax = plt.subplots( figsize = (5,2))\n",
    "    x = df['sex'].value_counts().index.tolist()\n",
    "    y = df['sex'].value_counts().values.tolist()\n",
    "\n",
    "\n",
    "    ax.bar(x,y)\n",
    "    ax.set_title('Nbre de Personnes par Sexe')\n",
    "    plt.show()"
   ]
  },
  {
   "cell_type": "code",
   "execution_count": 53,
   "id": "e4e65ccd-c22f-4292-bc55-b2b7c3015c7b",
   "metadata": {},
   "outputs": [
    {
     "data": {
      "image/png": "[encoded data removed]",
      "text/plain": [
       "<Figure size 500x200 with 1 Axes>"
      ]
     },
     "metadata": {},
     "output_type": "display_data"
    }
   ],
   "source": [
    "#Le nombre de personnes par haircolor\n",
    "with plt.style.context('cyberpunk'):\n",
    "    fig, ax = plt.subplots( figsize = ( 5,2 ))\n",
    "    x = df['haircolor'].value_counts().index.tolist()\n",
    "    y = df['haircolor'].value_counts().values.tolist()\n",
    "    \n",
    "    ax.barh(x, y )\n",
    "    ax.set_title('haircolor')\n",
    "    plt.show()"
   ]
  },
  {
   "cell_type": "code",
   "execution_count": null,
   "id": "3df07c17-4b30-4db5-a2dc-ff7288ca68cb",
   "metadata": {},
   "outputs": [],
   "source": []
  }
 ],
 "metadata": {
  "kernelspec": {
   "display_name": "Python [conda env:base] *",
   "language": "python",
   "name": "conda-base-py"
  },
  "language_info": {
   "codemirror_mode": {
    "name": "ipython",
    "version": 3
   },
   "file_extension": ".py",
   "mimetype": "text/x-python",
   "name": "python",
   "nbconvert_exporter": "python",
   "pygments_lexer": "ipython3",
   "version": "3.12.7"
  },
  "panel-cell-order": [
   "a4d61492-3f27-4b68-962b-e063ce73cbf0",
   "39683c7d-8d63-40a6-b832-0dc8ce62caab",
   "bd455190-467f-49f9-99e7-d3325a872bfb",
   "e5d1df2e-edec-4b06-8e98-b79828c94de4",
   "7648486f-2315-4f4d-ba9b-1d56203563cf",
   "fee809e1-3255-4631-afe2-f371914aa1c1",
   "b993697c-492b-4f47-a161-e10d87d083ae",
   "54a782d3-d94a-4f04-ab2a-a682e64685ee",
   "699733c2-00c9-4b7a-9636-70aaca5f13ee",
   "63121f26-bac8-4604-bf16-8ebababc4f94",
   "fb0c74f5-dfec-4bd9-9346-e9bcfa508f6e",
   "25822ec9-def8-4846-93c7-0c2c60acace2",
   "cd853a86-c9dd-48d0-9507-6695afb73ca5"
  ]
 },
 "nbformat": 4,
 "nbformat_minor": 5
}
