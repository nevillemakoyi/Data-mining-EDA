import pandas as pd


data_path = r'E:\Documents\1. MyOffice\1. Private\7. Plan de developpement Personnel\3. Masters Et Certification\ISIG\06. Data Mining et Machine Learning\datasets\Student_Performance.csv'



