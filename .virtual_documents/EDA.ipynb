


import pandas as pd
import numpy as np
import matplotlib.pyplot as plt





data_path = 'TP1/data/catdata.csv'
data = pd.read_csv(data_path, sep = ';')
df = data.copy()





df.dtypes








# la forme des donnees, le nombre des linges et colonnes

print(df.shape) # le nombres des lignes ert colonnes
print(df.size) # le nombre total d' elements dans le fichier






df.columns.tolist()





df.isna().sum() # le nombre des valeurs manquantes dans chaque colonnes


df.describe(include = 'all')





#Le nombre de personnes par sexe
df['sex'].value_counts()


#Le nombre de personnes par haircolor
df['haircolor'].value_counts()


#Le nombre de personnes par hairpattern
df['hairpattern'].value_counts()


#tranche d age
tranche = [0, 12, 18, 65, 120]
labels = ['Enfant', 'Mineur', 'Adulte', 'Pers Agee']
df['Tranche d\'âge'] = pd.cut(df['age'], bins=tranche, labels=labels)


df['Tranche d\'âge'].values



