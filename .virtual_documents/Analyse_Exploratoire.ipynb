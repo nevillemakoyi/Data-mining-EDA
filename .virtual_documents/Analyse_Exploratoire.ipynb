


#!{sys.executable} -m pip install mplcyberpunk


import pandas as pd
import numpy as np
import matplotlib.pyplot as plt
import mplcyberpunk





data_path = 'TP1/data/catdata.csv'
data = pd.read_csv(data_path, sep = ';')
df = data.copy()





df.dtypes








# la forme des donnees, le nombre des linges et colonnes

print(df.shape) # le nombres des lignes ert colonnes
print(df.size) # le nombre total d' elements dans le fichier






df.columns.tolist()





df.isna().sum() # le nombre des valeurs manquantes dans chaque colonnes


df.describe(include = 'all')





#Le nombre de personnes par sexe
df['sex'].value_counts()


#Le nombre de personnes par haircolor
df['haircolor'].value_counts()


#Le nombre de personnes par hairpattern
df['hairpattern'].value_counts()


#tranche d age
tranche = [0, 12, 17, 64, 120]
labels = ['Enfant', 'Mineur', 'Adulte', 'Pers Agee']
df['Tranche d\'âge'] = pd.cut(df['age'], bins=tranche, labels=labels)


# Pers par tranche d age
df['Tranche d\'âge'].value_counts()





#Le nombre de personnes par sexe
df['sex'].value_counts()


with plt.style.context('cyberpunk'):
    fig, ax = plt.subplots( figsize = (5,2))
    x = df['sex'].value_counts().index.tolist()
    y = df['sex'].value_counts().values.tolist()


    ax.bar(x,y)
    ax.set_title('Nbre de Personnes par Sexe')
    plt.show()


#Le nombre de personnes par haircolor
with plt.style.context('cyberpunk'):
    fig, ax = plt.subplots( figsize = ( 5,2 ))
    x = df['haircolor'].value_counts().index.tolist()
    y = df['haircolor'].value_counts().values.tolist()
    
    ax.barh(x, y )
    ax.set_title('haircolor')
    #mplcyberpunk.add_glow_effects()
    plt.show()


import matplotlib.pyplot as plt
import matplotlib.gridspec as gridspec


with plt.style.context('cyberpunk'):
    fig = plt.figure(figsize=(12, 8))
    gs = gridspec.GridSpec(2, 3)
    
    # Top row: 3 columns
    ax1 = fig.add_subplot(gs[0, 0])
    ax2 = fig.add_subplot(gs[0, 1])
    ax3 = fig.add_subplot(gs[0, 2])
    
    # Bottom row: span all 3 columns
    ax4 = fig.add_subplot(gs[1, :])
    ax1.barh(x,y)




