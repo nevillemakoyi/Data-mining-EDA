














import pandas as pd
import numpy as np
import matplotlib.pyplot as plt
import mplcyberpunk






data_path = r'E:\Documents\1. MyOffice\1. Private\7. Plan de developpement Personnel\3. Masters Et Certification\ISIG\06. Data Mining et Machine Learning\datasets\Global Missing Migrants Dataset.csv'
data = pd.read_csv(data_path)
df = data.copy()


df.head(3)











print(df.shape) # la taille de la bd ( lignes et colonnes)
print(df.size) # le nombre d'elements de la bd
print()





print(df.dtypes)
print()








print(df.isna().sum())
print()





print(df.isna().mean()*100)
print()


df.isna().all() # les colonnes entièrement vide


df.isna().all(axis = 1) # les lignes entièrement vide
print()


df.columns








df = df.drop(['Incident Type','Total Number of Dead and Missing', 'Cause of Death', 'Migration route', 'Location of death', 'Information Source', 'Coordinates', 'UNSD Geographical Grouping'], axis = 1)


df.columns








# le nombre total d'incidents
df['Incident year'].count()


# le nbr total d'incidents par années
df.groupby(['Incident year'])['Incident year'].value_counts()


# le nbr total d incidents par region d'origine des migrants
df['Region of Origin'].value_counts()


# le nbr total d incident par region
incident_by_region = df['Region of Incident'].value_counts()
incident_by_region


#le nbre total des decés
deces = df['Number of Dead'].sum()
deces


# le bbre total des survivants
survivant = df['Number of Survivors'].sum()
survivant


# le total des Pers disparues
disparues = df['Minimum Estimated Number of Missing'].sum()
disparues


total_migrant = deces + survivant + disparues
total_migrant





incident_by_region = df['Region of Incident'].value_counts()
x = incident_by_region.index.tolist()
y = incident_by_region.values.tolist()


fig, ax = plt.subplots(figsize=(10, 4))

ax.barh(x, y, color='skyblue')


ax.set_title("Nombre d'incidents par région")
ax.set_xlabel("Nombre d'incidents")
ax.set_ylabel("Région")





deces_by_region = df[['Region of Incident','Number of Dead']].groupby('Region of Incident')['Number of Dead'].sum()
deces_by_region = deces_by_region.sort_values()


x = deces_by_region.index.tolist()
y = deces_by_region.values.tolist()


fig, ax = plt.subplots(figsize =(10,4))
ax.barh(x,y, color = 'b')






