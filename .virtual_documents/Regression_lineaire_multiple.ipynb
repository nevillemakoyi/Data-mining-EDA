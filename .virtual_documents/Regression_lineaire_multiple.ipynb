import pandas as pd
import numpy as np
import matplotlib.pyplot as plt
from sklearn.model_selection import train_test_split
from sklearn.linear_model import LinearRegression
from sklearn.metrics import r2_score, mean_squared_error


data_path = r'E:\Documents\1. MyOffice\1. Private\7. Plan de developpement Personnel\3. Masters Et Certification\ISIG\06. Data Mining et Machine Learning\datasets\Student_Performance.csv'
data = pd.read_csv(data_path)
df = data.copy()


df.columns


df = df.drop(columns =['Extracurricular Activities'])


df





features = ['Hours Studied', 'Previous Scores', 'Sleep Hours', 'Sample Question Papers Practiced']
x = df[features]


target = ['Performance Index']
y = df[ target]
print()





x_train, x_test, y_train, y_test = train_test_split(x,y,test_size=0.2, random_state=42)





regression_mult = LinearRegression()
regression_mult.fit(x_train,y_train)





predictions = regression_mult.predict(x_test)





regression_mult.predict([[8,80,7,3]])





r2=r2_score(y_test,predictions)
rmse=np.sqrt(mean_squared_error(y_test,predictions))

print('R2 = ', r2)
print( 'RMSE = ', rmse)





import pickle
with open('model_student_performance.pkl', 'wb') as model_file:
    pickle.dump(regression_mult,model_file)



