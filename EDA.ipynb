{
 "cells": [
  {
   "cell_type": "markdown",
   "id": "a4d61492-3f27-4b68-962b-e063ce73cbf0",
   "metadata": {
    "panel-layout": {
     "height": 44.09375,
     "visible": true,
     "width": 100
    }
   },
   "source": [
    "### Importation des libraries"
   ]
  },
  {
   "cell_type": "code",
   "execution_count": 1,
   "id": "1f6499e2-5f39-4cc8-ac95-54e84305952c",
   "metadata": {},
   "outputs": [],
   "source": [
    "import pandas as pd\n",
    "import numpy as np\n",
    "import matplotlib.pyplot as plt"
   ]
  },
  {
   "cell_type": "markdown",
   "id": "39683c7d-8d63-40a6-b832-0dc8ce62caab",
   "metadata": {
    "panel-layout": {
     "height": 44.09375,
     "visible": true,
     "width": 100
    }
   },
   "source": [
    "### Chargement des donnees"
   ]
  },
  {
   "cell_type": "code",
   "execution_count": 2,
   "id": "5d147003-49fa-4ae1-96c5-96809178f22b",
   "metadata": {},
   "outputs": [],
   "source": [
    "data_path = 'TP1/data/catdata.csv'\n",
    "data = pd.read_csv(data_path, sep = ';')\n",
    "df = data.copy()"
   ]
  },
  {
   "cell_type": "markdown",
   "id": "bd455190-467f-49f9-99e7-d3325a872bfb",
   "metadata": {
    "panel-layout": {
     "height": 44.09375,
     "visible": true,
     "width": 100
    }
   },
   "source": [
    "### Exploration des donnees"
   ]
  },
  {
   "cell_type": "code",
   "execution_count": 3,
   "id": "e5d1df2e-edec-4b06-8e98-b79828c94de4",
   "metadata": {
    "panel-layout": {
     "height": 4015,
     "visible": true,
     "width": 100
    }
   },
   "outputs": [
    {
     "data": {
      "application/vnd.microsoft.datawrangler.viewer.v0+json": {
       "columns": [
        {
         "name": "index",
         "rawType": "int64",
         "type": "integer"
        },
        {
         "name": "haircolor",
         "rawType": "object",
         "type": "string"
        },
        {
         "name": "hairpattern",
         "rawType": "object",
         "type": "string"
        },
        {
         "name": "sex",
         "rawType": "object",
         "type": "string"
        },
        {
         "name": "weight",
         "rawType": "float64",
         "type": "float"
        },
        {
         "name": "age",
         "rawType": "int64",
         "type": "integer"
        },
        {
         "name": "foodtype",
         "rawType": "object",
         "type": "string"
        }
       ],
       "ref": "a7247556-024e-40bf-ba5b-ecee16b4b7e1",
       "rows": [
        [
         "0",
         "red",
         "tortoise",
         "female",
         "3.7",
         "7",
         "dry"
        ],
        [
         "1",
         "black",
         "tipped",
         "male",
         "6.0",
         "4",
         "wet"
        ],
        [
         "2",
         "black",
         "tabby",
         "male",
         "5.4",
         "4",
         "dry"
        ],
        [
         "3",
         "white",
         "solid",
         "male",
         "5.0",
         "4",
         "dry"
        ],
        [
         "4",
         "brown",
         "tipped",
         "female",
         "3.3",
         "6",
         "dry"
        ],
        [
         "5",
         "white",
         "colorpoint",
         "male",
         "5.1",
         "4",
         "dry"
        ],
        [
         "6",
         "black",
         "tortoise",
         "male",
         "5.9",
         "8",
         "wet"
        ],
        [
         "7",
         "red",
         "tortoise",
         "female",
         "4.7",
         "3",
         "dry"
        ],
        [
         "8",
         "black",
         "tabby",
         "male",
         "5.2",
         "8",
         "dry"
        ],
        [
         "9",
         "black",
         "solid",
         "female",
         "4.0",
         "4",
         "dry"
        ],
        [
         "10",
         "black",
         "tortoise",
         "male",
         "3.8",
         "7",
         "dry"
        ],
        [
         "11",
         "black",
         "solid",
         "female",
         "4.9",
         "8",
         "wet"
        ],
        [
         "12",
         "black",
         "tabby",
         "female",
         "4.8",
         "4",
         "dry"
        ],
        [
         "13",
         "black",
         "solid",
         "female",
         "6.1",
         "2",
         "dry"
        ],
        [
         "14",
         "brown",
         "tabby",
         "female",
         "3.9",
         "5",
         "dry"
        ],
        [
         "15",
         "white",
         "tipped",
         "female",
         "5.0",
         "4",
         "other"
        ],
        [
         "16",
         "brown",
         "colorpoint",
         "male",
         "6.2",
         "5",
         "dry"
        ],
        [
         "17",
         "red",
         "tabby",
         "male",
         "6.0",
         "6",
         "other"
        ],
        [
         "18",
         "white",
         "tabby",
         "female",
         "4.8",
         "7",
         "dry"
        ],
        [
         "19",
         "white",
         "tabby",
         "female",
         "6.8",
         "5",
         "dry"
        ],
        [
         "20",
         "black",
         "tabby",
         "female",
         "6.3",
         "10",
         "dry"
        ],
        [
         "21",
         "brown",
         "tipped",
         "male",
         "4.9",
         "14",
         "wet"
        ],
        [
         "22",
         "black",
         "tabby",
         "female",
         "2.7",
         "4",
         "dry"
        ],
        [
         "23",
         "white",
         "tabby",
         "female",
         "3.9",
         "4",
         "dry"
        ],
        [
         "24",
         "black",
         "tabby",
         "male",
         "5.8",
         "3",
         "dry"
        ],
        [
         "25",
         "black",
         "tabby",
         "male",
         "6.3",
         "2",
         "wet"
        ],
        [
         "26",
         "black",
         "colorpoint",
         "female",
         "5.2",
         "5",
         "dry"
        ],
        [
         "27",
         "black",
         "solid",
         "male",
         "5.4",
         "13",
         "dry"
        ],
        [
         "28",
         "brown",
         "tabby",
         "female",
         "5.8",
         "8",
         "dry"
        ],
        [
         "29",
         "black",
         "tortoise",
         "male",
         "3.7",
         "6",
         "dry"
        ],
        [
         "30",
         "black",
         "tabby",
         "female",
         "2.8",
         "10",
         "dry"
        ],
        [
         "31",
         "black",
         "colorpoint",
         "female",
         "5.5",
         "3",
         "dry"
        ],
        [
         "32",
         "white",
         "tipped",
         "male",
         "3.6",
         "13",
         "dry"
        ],
        [
         "33",
         "white",
         "solid",
         "male",
         "5.2",
         "6",
         "dry"
        ],
        [
         "34",
         "white",
         "tipped",
         "female",
         "3.3",
         "6",
         "dry"
        ],
        [
         "35",
         "red",
         "solid",
         "female",
         "4.5",
         "7",
         "dry"
        ],
        [
         "36",
         "black",
         "tortoise",
         "male",
         "4.6",
         "7",
         "other"
        ],
        [
         "37",
         "white",
         "solid",
         "male",
         "3.7",
         "8",
         "wet"
        ],
        [
         "38",
         "white",
         "tortoise",
         "male",
         "4.9",
         "7",
         "dry"
        ],
        [
         "39",
         "red",
         "tipped",
         "female",
         "5.7",
         "3",
         "dry"
        ],
        [
         "40",
         "white",
         "tipped",
         "male",
         "3.5",
         "4",
         "dry"
        ],
        [
         "41",
         "black",
         "tortoise",
         "male",
         "6.3",
         "10",
         "dry"
        ],
        [
         "42",
         "black",
         "solid",
         "female",
         "4.1",
         "6",
         "other"
        ],
        [
         "43",
         "white",
         "tortoise",
         "female",
         "5.7",
         "4",
         "dry"
        ],
        [
         "44",
         "white",
         "tipped",
         "male",
         "3.4",
         "7",
         "dry"
        ],
        [
         "45",
         "brown",
         "tortoise",
         "male",
         "4.7",
         "7",
         "dry"
        ],
        [
         "46",
         "brown",
         "solid",
         "female",
         "5.1",
         "5",
         "wet"
        ],
        [
         "47",
         "red",
         "tipped",
         "male",
         "6.5",
         "5",
         "other"
        ],
        [
         "48",
         "brown",
         "colorpoint",
         "female",
         "4.9",
         "2",
         "dry"
        ],
        [
         "49",
         "white",
         "tabby",
         "female",
         "2.9",
         "7",
         "dry"
        ]
       ],
       "shape": {
        "columns": 6,
        "rows": 153
       }
      },
      "text/html": [
       "<div>\n",
       "<style scoped>\n",
       "    .dataframe tbody tr th:only-of-type {\n",
       "        vertical-align: middle;\n",
       "    }\n",
       "\n",
       "    .dataframe tbody tr th {\n",
       "        vertical-align: top;\n",
       "    }\n",
       "\n",
       "    .dataframe thead th {\n",
       "        text-align: right;\n",
       "    }\n",
       "</style>\n",
       "<table border=\"1\" class=\"dataframe\">\n",
       "  <thead>\n",
       "    <tr style=\"text-align: right;\">\n",
       "      <th></th>\n",
       "      <th>haircolor</th>\n",
       "      <th>hairpattern</th>\n",
       "      <th>sex</th>\n",
       "      <th>weight</th>\n",
       "      <th>age</th>\n",
       "      <th>foodtype</th>\n",
       "    </tr>\n",
       "  </thead>\n",
       "  <tbody>\n",
       "    <tr>\n",
       "      <th>0</th>\n",
       "      <td>red</td>\n",
       "      <td>tortoise</td>\n",
       "      <td>female</td>\n",
       "      <td>3.7</td>\n",
       "      <td>7</td>\n",
       "      <td>dry</td>\n",
       "    </tr>\n",
       "    <tr>\n",
       "      <th>1</th>\n",
       "      <td>black</td>\n",
       "      <td>tipped</td>\n",
       "      <td>male</td>\n",
       "      <td>6.0</td>\n",
       "      <td>4</td>\n",
       "      <td>wet</td>\n",
       "    </tr>\n",
       "    <tr>\n",
       "      <th>2</th>\n",
       "      <td>black</td>\n",
       "      <td>tabby</td>\n",
       "      <td>male</td>\n",
       "      <td>5.4</td>\n",
       "      <td>4</td>\n",
       "      <td>dry</td>\n",
       "    </tr>\n",
       "    <tr>\n",
       "      <th>3</th>\n",
       "      <td>white</td>\n",
       "      <td>solid</td>\n",
       "      <td>male</td>\n",
       "      <td>5.0</td>\n",
       "      <td>4</td>\n",
       "      <td>dry</td>\n",
       "    </tr>\n",
       "    <tr>\n",
       "      <th>4</th>\n",
       "      <td>brown</td>\n",
       "      <td>tipped</td>\n",
       "      <td>female</td>\n",
       "      <td>3.3</td>\n",
       "      <td>6</td>\n",
       "      <td>dry</td>\n",
       "    </tr>\n",
       "    <tr>\n",
       "      <th>...</th>\n",
       "      <td>...</td>\n",
       "      <td>...</td>\n",
       "      <td>...</td>\n",
       "      <td>...</td>\n",
       "      <td>...</td>\n",
       "      <td>...</td>\n",
       "    </tr>\n",
       "    <tr>\n",
       "      <th>148</th>\n",
       "      <td>red</td>\n",
       "      <td>tortoise</td>\n",
       "      <td>male</td>\n",
       "      <td>3.7</td>\n",
       "      <td>10</td>\n",
       "      <td>dry</td>\n",
       "    </tr>\n",
       "    <tr>\n",
       "      <th>149</th>\n",
       "      <td>white</td>\n",
       "      <td>solid</td>\n",
       "      <td>female</td>\n",
       "      <td>4.5</td>\n",
       "      <td>5</td>\n",
       "      <td>dry</td>\n",
       "    </tr>\n",
       "    <tr>\n",
       "      <th>150</th>\n",
       "      <td>black</td>\n",
       "      <td>tabby</td>\n",
       "      <td>female</td>\n",
       "      <td>6.0</td>\n",
       "      <td>4</td>\n",
       "      <td>wet</td>\n",
       "    </tr>\n",
       "    <tr>\n",
       "      <th>151</th>\n",
       "      <td>white</td>\n",
       "      <td>tabby</td>\n",
       "      <td>female</td>\n",
       "      <td>5.3</td>\n",
       "      <td>8</td>\n",
       "      <td>dry</td>\n",
       "    </tr>\n",
       "    <tr>\n",
       "      <th>152</th>\n",
       "      <td>black</td>\n",
       "      <td>tabby</td>\n",
       "      <td>female</td>\n",
       "      <td>5.8</td>\n",
       "      <td>10</td>\n",
       "      <td>dry</td>\n",
       "    </tr>\n",
       "  </tbody>\n",
       "</table>\n",
       "<p>153 rows × 6 columns</p>\n",
       "</div>"
      ],
      "text/plain": [
       "    haircolor hairpattern     sex  weight  age foodtype\n",
       "0         red    tortoise  female     3.7    7      dry\n",
       "1       black      tipped    male     6.0    4      wet\n",
       "2       black       tabby    male     5.4    4      dry\n",
       "3       white       solid    male     5.0    4      dry\n",
       "4       brown      tipped  female     3.3    6      dry\n",
       "..        ...         ...     ...     ...  ...      ...\n",
       "148       red    tortoise    male     3.7   10      dry\n",
       "149     white       solid  female     4.5    5      dry\n",
       "150     black       tabby  female     6.0    4      wet\n",
       "151     white       tabby  female     5.3    8      dry\n",
       "152     black       tabby  female     5.8   10      dry\n",
       "\n",
       "[153 rows x 6 columns]"
      ]
     },
     "execution_count": 3,
     "metadata": {},
     "output_type": "execute_result"
    }
   ],
   "source": [
    "df"
   ]
  },
  {
   "cell_type": "markdown",
   "id": "7648486f-2315-4f4d-ba9b-1d56203563cf",
   "metadata": {
    "panel-layout": {
     "height": 44.09375,
     "visible": true,
     "width": 100
    }
   },
   "source": [
    "### Exploration des donnees"
   ]
  },
  {
   "cell_type": "markdown",
   "id": "fee809e1-3255-4631-afe2-f371914aa1c1",
   "metadata": {
    "panel-layout": {
     "height": 40.9375,
     "visible": true,
     "width": 100
    }
   },
   "source": [
    "##### <i>Nbre des lignes, colonees, et la taille de la bd</i>"
   ]
  },
  {
   "cell_type": "code",
   "execution_count": 4,
   "id": "b993697c-492b-4f47-a161-e10d87d083ae",
   "metadata": {
    "panel-layout": {
     "height": 0,
     "visible": true,
     "width": 100
    }
   },
   "outputs": [
    {
     "name": "stdout",
     "output_type": "stream",
     "text": [
      "(153, 6)\n",
      "918\n"
     ]
    }
   ],
   "source": [
    "# la forme des donnees, le nombre des linges et colonnes\n",
    "\n",
    "print(df.shape) # le nombres des lignes ert colonnes\n",
    "print(df.size) # le nombre total d' elements dans le fichier\n"
   ]
  },
  {
   "cell_type": "markdown",
   "id": "54a782d3-d94a-4f04-ab2a-a682e64685ee",
   "metadata": {
    "panel-layout": {
     "height": 40.9375,
     "visible": true,
     "width": 100
    }
   },
   "source": [
    "##### <i>les variables</i>"
   ]
  },
  {
   "cell_type": "code",
   "execution_count": 5,
   "id": "699733c2-00c9-4b7a-9636-70aaca5f13ee",
   "metadata": {
    "panel-layout": {
     "height": 152.046875,
     "visible": true,
     "width": 100
    }
   },
   "outputs": [
    {
     "data": {
      "text/plain": [
       "['haircolor', 'hairpattern', 'sex', 'weight', 'age', 'foodtype']"
      ]
     },
     "execution_count": 5,
     "metadata": {},
     "output_type": "execute_result"
    }
   ],
   "source": [
    "df.columns.tolist()"
   ]
  },
  {
   "cell_type": "markdown",
   "id": "63121f26-bac8-4604-bf16-8ebababc4f94",
   "metadata": {
    "panel-layout": {
     "height": 40.9375,
     "visible": true,
     "width": 100
    }
   },
   "source": [
    "##### <i>analyse des valeurs manquantes</i>"
   ]
  },
  {
   "cell_type": "code",
   "execution_count": 6,
   "id": "fb0c74f5-dfec-4bd9-9346-e9bcfa508f6e",
   "metadata": {
    "panel-layout": {
     "height": 193,
     "visible": true,
     "width": 100
    }
   },
   "outputs": [
    {
     "data": {
      "application/vnd.microsoft.datawrangler.viewer.v0+json": {
       "columns": [
        {
         "name": "index",
         "rawType": "object",
         "type": "string"
        },
        {
         "name": "0",
         "rawType": "int64",
         "type": "integer"
        }
       ],
       "ref": "65da00dc-3a47-4984-9faa-83be61fe9b82",
       "rows": [
        [
         "haircolor",
         "0"
        ],
        [
         "hairpattern",
         "0"
        ],
        [
         "sex",
         "0"
        ],
        [
         "weight",
         "0"
        ],
        [
         "age",
         "0"
        ],
        [
         "foodtype",
         "0"
        ]
       ],
       "shape": {
        "columns": 1,
        "rows": 6
       }
      },
      "text/plain": [
       "haircolor      0\n",
       "hairpattern    0\n",
       "sex            0\n",
       "weight         0\n",
       "age            0\n",
       "foodtype       0\n",
       "dtype: int64"
      ]
     },
     "execution_count": 6,
     "metadata": {},
     "output_type": "execute_result"
    }
   ],
   "source": [
    "df.isna().sum() # le nombre des valeurs manquantes dans chaque colonnes"
   ]
  },
  {
   "cell_type": "code",
   "execution_count": 7,
   "id": "25822ec9-def8-4846-93c7-0c2c60acace2",
   "metadata": {
    "panel-layout": {
     "height": 323,
     "visible": true,
     "width": 100
    }
   },
   "outputs": [
    {
     "data": {
      "application/vnd.microsoft.datawrangler.viewer.v0+json": {
       "columns": [
        {
         "name": "index",
         "rawType": "object",
         "type": "string"
        },
        {
         "name": "haircolor",
         "rawType": "object",
         "type": "unknown"
        },
        {
         "name": "hairpattern",
         "rawType": "object",
         "type": "unknown"
        },
        {
         "name": "sex",
         "rawType": "object",
         "type": "unknown"
        },
        {
         "name": "weight",
         "rawType": "float64",
         "type": "float"
        },
        {
         "name": "age",
         "rawType": "float64",
         "type": "float"
        },
        {
         "name": "foodtype",
         "rawType": "object",
         "type": "unknown"
        }
       ],
       "ref": "9201be97-ade0-4d2e-b861-33da6ad47487",
       "rows": [
        [
         "count",
         "153",
         "153",
         "153",
         "153.0",
         "153.0",
         "153"
        ],
        [
         "unique",
         "4",
         "5",
         "2",
         null,
         null,
         "3"
        ],
        [
         "top",
         "black",
         "tabby",
         "male",
         null,
         null,
         "dry"
        ],
        [
         "freq",
         "68",
         "58",
         "85",
         null,
         null,
         "109"
        ],
        [
         "mean",
         null,
         null,
         null,
         "4.805882352941177",
         "6.333333333333333",
         null
        ],
        [
         "std",
         null,
         null,
         null,
         "0.9608271720185501",
         "2.7529888064467416",
         null
        ],
        [
         "min",
         null,
         null,
         null,
         "2.7",
         "2.0",
         null
        ],
        [
         "25%",
         null,
         null,
         null,
         "4.1",
         "4.0",
         null
        ],
        [
         "50%",
         null,
         null,
         null,
         "4.9",
         "6.0",
         null
        ],
        [
         "75%",
         null,
         null,
         null,
         "5.6",
         "8.0",
         null
        ],
        [
         "max",
         null,
         null,
         null,
         "6.8",
         "14.0",
         null
        ]
       ],
       "shape": {
        "columns": 6,
        "rows": 11
       }
      },
      "text/html": [
       "<div>\n",
       "<style scoped>\n",
       "    .dataframe tbody tr th:only-of-type {\n",
       "        vertical-align: middle;\n",
       "    }\n",
       "\n",
       "    .dataframe tbody tr th {\n",
       "        vertical-align: top;\n",
       "    }\n",
       "\n",
       "    .dataframe thead th {\n",
       "        text-align: right;\n",
       "    }\n",
       "</style>\n",
       "<table border=\"1\" class=\"dataframe\">\n",
       "  <thead>\n",
       "    <tr style=\"text-align: right;\">\n",
       "      <th></th>\n",
       "      <th>haircolor</th>\n",
       "      <th>hairpattern</th>\n",
       "      <th>sex</th>\n",
       "      <th>weight</th>\n",
       "      <th>age</th>\n",
       "      <th>foodtype</th>\n",
       "    </tr>\n",
       "  </thead>\n",
       "  <tbody>\n",
       "    <tr>\n",
       "      <th>count</th>\n",
       "      <td>153</td>\n",
       "      <td>153</td>\n",
       "      <td>153</td>\n",
       "      <td>153.000000</td>\n",
       "      <td>153.000000</td>\n",
       "      <td>153</td>\n",
       "    </tr>\n",
       "    <tr>\n",
       "      <th>unique</th>\n",
       "      <td>4</td>\n",
       "      <td>5</td>\n",
       "      <td>2</td>\n",
       "      <td>NaN</td>\n",
       "      <td>NaN</td>\n",
       "      <td>3</td>\n",
       "    </tr>\n",
       "    <tr>\n",
       "      <th>top</th>\n",
       "      <td>black</td>\n",
       "      <td>tabby</td>\n",
       "      <td>male</td>\n",
       "      <td>NaN</td>\n",
       "      <td>NaN</td>\n",
       "      <td>dry</td>\n",
       "    </tr>\n",
       "    <tr>\n",
       "      <th>freq</th>\n",
       "      <td>68</td>\n",
       "      <td>58</td>\n",
       "      <td>85</td>\n",
       "      <td>NaN</td>\n",
       "      <td>NaN</td>\n",
       "      <td>109</td>\n",
       "    </tr>\n",
       "    <tr>\n",
       "      <th>mean</th>\n",
       "      <td>NaN</td>\n",
       "      <td>NaN</td>\n",
       "      <td>NaN</td>\n",
       "      <td>4.805882</td>\n",
       "      <td>6.333333</td>\n",
       "      <td>NaN</td>\n",
       "    </tr>\n",
       "    <tr>\n",
       "      <th>std</th>\n",
       "      <td>NaN</td>\n",
       "      <td>NaN</td>\n",
       "      <td>NaN</td>\n",
       "      <td>0.960827</td>\n",
       "      <td>2.752989</td>\n",
       "      <td>NaN</td>\n",
       "    </tr>\n",
       "    <tr>\n",
       "      <th>min</th>\n",
       "      <td>NaN</td>\n",
       "      <td>NaN</td>\n",
       "      <td>NaN</td>\n",
       "      <td>2.700000</td>\n",
       "      <td>2.000000</td>\n",
       "      <td>NaN</td>\n",
       "    </tr>\n",
       "    <tr>\n",
       "      <th>25%</th>\n",
       "      <td>NaN</td>\n",
       "      <td>NaN</td>\n",
       "      <td>NaN</td>\n",
       "      <td>4.100000</td>\n",
       "      <td>4.000000</td>\n",
       "      <td>NaN</td>\n",
       "    </tr>\n",
       "    <tr>\n",
       "      <th>50%</th>\n",
       "      <td>NaN</td>\n",
       "      <td>NaN</td>\n",
       "      <td>NaN</td>\n",
       "      <td>4.900000</td>\n",
       "      <td>6.000000</td>\n",
       "      <td>NaN</td>\n",
       "    </tr>\n",
       "    <tr>\n",
       "      <th>75%</th>\n",
       "      <td>NaN</td>\n",
       "      <td>NaN</td>\n",
       "      <td>NaN</td>\n",
       "      <td>5.600000</td>\n",
       "      <td>8.000000</td>\n",
       "      <td>NaN</td>\n",
       "    </tr>\n",
       "    <tr>\n",
       "      <th>max</th>\n",
       "      <td>NaN</td>\n",
       "      <td>NaN</td>\n",
       "      <td>NaN</td>\n",
       "      <td>6.800000</td>\n",
       "      <td>14.000000</td>\n",
       "      <td>NaN</td>\n",
       "    </tr>\n",
       "  </tbody>\n",
       "</table>\n",
       "</div>"
      ],
      "text/plain": [
       "       haircolor hairpattern   sex      weight         age foodtype\n",
       "count        153         153   153  153.000000  153.000000      153\n",
       "unique         4           5     2         NaN         NaN        3\n",
       "top        black       tabby  male         NaN         NaN      dry\n",
       "freq          68          58    85         NaN         NaN      109\n",
       "mean         NaN         NaN   NaN    4.805882    6.333333      NaN\n",
       "std          NaN         NaN   NaN    0.960827    2.752989      NaN\n",
       "min          NaN         NaN   NaN    2.700000    2.000000      NaN\n",
       "25%          NaN         NaN   NaN    4.100000    4.000000      NaN\n",
       "50%          NaN         NaN   NaN    4.900000    6.000000      NaN\n",
       "75%          NaN         NaN   NaN    5.600000    8.000000      NaN\n",
       "max          NaN         NaN   NaN    6.800000   14.000000      NaN"
      ]
     },
     "execution_count": 7,
     "metadata": {},
     "output_type": "execute_result"
    }
   ],
   "source": [
    "df.describe(include = 'all')"
   ]
  },
  {
   "cell_type": "markdown",
   "id": "cd853a86-c9dd-48d0-9507-6695afb73ca5",
   "metadata": {
    "panel-layout": {
     "height": 40.9375,
     "visible": true,
     "width": 100
    }
   },
   "source": [
    "### Indicateurs (Analyse Stats)"
   ]
  },
  {
   "cell_type": "code",
   "execution_count": 8,
   "id": "8c7697cd-db77-467e-8a37-c1ccd3596fd4",
   "metadata": {},
   "outputs": [
    {
     "data": {
      "application/vnd.microsoft.datawrangler.viewer.v0+json": {
       "columns": [
        {
         "name": "sex",
         "rawType": "object",
         "type": "string"
        },
        {
         "name": "count",
         "rawType": "int64",
         "type": "integer"
        }
       ],
       "ref": "42e17cf7-9733-4203-9b2a-265c4cd92e3e",
       "rows": [
        [
         "male",
         "85"
        ],
        [
         "female",
         "68"
        ]
       ],
       "shape": {
        "columns": 1,
        "rows": 2
       }
      },
      "text/plain": [
       "sex\n",
       "male      85\n",
       "female    68\n",
       "Name: count, dtype: int64"
      ]
     },
     "execution_count": 8,
     "metadata": {},
     "output_type": "execute_result"
    }
   ],
   "source": [
    "#Le nombre de personnes par sexe\n",
    "df['sex'].value_counts()"
   ]
  },
  {
   "cell_type": "code",
   "execution_count": 9,
   "id": "dc3e7c05-808f-4faf-bf1b-b6f749c79ba3",
   "metadata": {},
   "outputs": [
    {
     "data": {
      "application/vnd.microsoft.datawrangler.viewer.v0+json": {
       "columns": [
        {
         "name": "haircolor",
         "rawType": "object",
         "type": "string"
        },
        {
         "name": "count",
         "rawType": "int64",
         "type": "integer"
        }
       ],
       "ref": "1a1401c8-7daf-4092-9f08-5c4a60b85c37",
       "rows": [
        [
         "black",
         "68"
        ],
        [
         "red",
         "35"
        ],
        [
         "white",
         "33"
        ],
        [
         "brown",
         "17"
        ]
       ],
       "shape": {
        "columns": 1,
        "rows": 4
       }
      },
      "text/plain": [
       "haircolor\n",
       "black    68\n",
       "red      35\n",
       "white    33\n",
       "brown    17\n",
       "Name: count, dtype: int64"
      ]
     },
     "execution_count": 9,
     "metadata": {},
     "output_type": "execute_result"
    }
   ],
   "source": [
    "#Le nombre de personnes par haircolor\n",
    "df['haircolor'].value_counts()"
   ]
  },
  {
   "cell_type": "code",
   "execution_count": 10,
   "id": "7cff5d6f-57b4-4faa-b59a-0b394219577c",
   "metadata": {},
   "outputs": [
    {
     "data": {
      "application/vnd.microsoft.datawrangler.viewer.v0+json": {
       "columns": [
        {
         "name": "hairpattern",
         "rawType": "object",
         "type": "string"
        },
        {
         "name": "count",
         "rawType": "int64",
         "type": "integer"
        }
       ],
       "ref": "a918daf3-fbb8-46dc-a571-9a2f282d39ab",
       "rows": [
        [
         "tabby",
         "58"
        ],
        [
         "solid",
         "31"
        ],
        [
         "tipped",
         "27"
        ],
        [
         "tortoise",
         "23"
        ],
        [
         "colorpoint",
         "14"
        ]
       ],
       "shape": {
        "columns": 1,
        "rows": 5
       }
      },
      "text/plain": [
       "hairpattern\n",
       "tabby         58\n",
       "solid         31\n",
       "tipped        27\n",
       "tortoise      23\n",
       "colorpoint    14\n",
       "Name: count, dtype: int64"
      ]
     },
     "execution_count": 10,
     "metadata": {},
     "output_type": "execute_result"
    }
   ],
   "source": [
    "#Le nombre de personnes par hairpattern\n",
    "df['hairpattern'].value_counts()"
   ]
  },
  {
   "cell_type": "code",
   "execution_count": 11,
   "id": "c2c46f16-b8dd-4b5b-a80f-23fb44849e70",
   "metadata": {},
   "outputs": [
    {
     "data": {
      "application/vnd.microsoft.datawrangler.viewer.v0+json": {
       "columns": [
        {
         "name": "index",
         "rawType": "int64",
         "type": "integer"
        },
        {
         "name": "haircolor",
         "rawType": "object",
         "type": "string"
        },
        {
         "name": "hairpattern",
         "rawType": "object",
         "type": "string"
        },
        {
         "name": "sex",
         "rawType": "object",
         "type": "string"
        },
        {
         "name": "weight",
         "rawType": "float64",
         "type": "float"
        },
        {
         "name": "age",
         "rawType": "int64",
         "type": "integer"
        },
        {
         "name": "foodtype",
         "rawType": "object",
         "type": "string"
        }
       ],
       "ref": "a0d24db2-4fe4-4d1b-8fe7-bbc01d9abecf",
       "rows": [
        [
         "0",
         "red",
         "tortoise",
         "female",
         "3.7",
         "7",
         "dry"
        ],
        [
         "1",
         "black",
         "tipped",
         "male",
         "6.0",
         "4",
         "wet"
        ],
        [
         "2",
         "black",
         "tabby",
         "male",
         "5.4",
         "4",
         "dry"
        ],
        [
         "3",
         "white",
         "solid",
         "male",
         "5.0",
         "4",
         "dry"
        ],
        [
         "4",
         "brown",
         "tipped",
         "female",
         "3.3",
         "6",
         "dry"
        ],
        [
         "5",
         "white",
         "colorpoint",
         "male",
         "5.1",
         "4",
         "dry"
        ],
        [
         "6",
         "black",
         "tortoise",
         "male",
         "5.9",
         "8",
         "wet"
        ],
        [
         "7",
         "red",
         "tortoise",
         "female",
         "4.7",
         "3",
         "dry"
        ],
        [
         "8",
         "black",
         "tabby",
         "male",
         "5.2",
         "8",
         "dry"
        ],
        [
         "9",
         "black",
         "solid",
         "female",
         "4.0",
         "4",
         "dry"
        ],
        [
         "10",
         "black",
         "tortoise",
         "male",
         "3.8",
         "7",
         "dry"
        ],
        [
         "11",
         "black",
         "solid",
         "female",
         "4.9",
         "8",
         "wet"
        ],
        [
         "12",
         "black",
         "tabby",
         "female",
         "4.8",
         "4",
         "dry"
        ],
        [
         "13",
         "black",
         "solid",
         "female",
         "6.1",
         "2",
         "dry"
        ],
        [
         "14",
         "brown",
         "tabby",
         "female",
         "3.9",
         "5",
         "dry"
        ],
        [
         "15",
         "white",
         "tipped",
         "female",
         "5.0",
         "4",
         "other"
        ],
        [
         "16",
         "brown",
         "colorpoint",
         "male",
         "6.2",
         "5",
         "dry"
        ],
        [
         "17",
         "red",
         "tabby",
         "male",
         "6.0",
         "6",
         "other"
        ],
        [
         "18",
         "white",
         "tabby",
         "female",
         "4.8",
         "7",
         "dry"
        ],
        [
         "19",
         "white",
         "tabby",
         "female",
         "6.8",
         "5",
         "dry"
        ],
        [
         "20",
         "black",
         "tabby",
         "female",
         "6.3",
         "10",
         "dry"
        ],
        [
         "21",
         "brown",
         "tipped",
         "male",
         "4.9",
         "14",
         "wet"
        ],
        [
         "22",
         "black",
         "tabby",
         "female",
         "2.7",
         "4",
         "dry"
        ],
        [
         "23",
         "white",
         "tabby",
         "female",
         "3.9",
         "4",
         "dry"
        ],
        [
         "24",
         "black",
         "tabby",
         "male",
         "5.8",
         "3",
         "dry"
        ],
        [
         "25",
         "black",
         "tabby",
         "male",
         "6.3",
         "2",
         "wet"
        ],
        [
         "26",
         "black",
         "colorpoint",
         "female",
         "5.2",
         "5",
         "dry"
        ],
        [
         "27",
         "black",
         "solid",
         "male",
         "5.4",
         "13",
         "dry"
        ],
        [
         "28",
         "brown",
         "tabby",
         "female",
         "5.8",
         "8",
         "dry"
        ],
        [
         "29",
         "black",
         "tortoise",
         "male",
         "3.7",
         "6",
         "dry"
        ],
        [
         "30",
         "black",
         "tabby",
         "female",
         "2.8",
         "10",
         "dry"
        ],
        [
         "31",
         "black",
         "colorpoint",
         "female",
         "5.5",
         "3",
         "dry"
        ],
        [
         "32",
         "white",
         "tipped",
         "male",
         "3.6",
         "13",
         "dry"
        ],
        [
         "33",
         "white",
         "solid",
         "male",
         "5.2",
         "6",
         "dry"
        ],
        [
         "34",
         "white",
         "tipped",
         "female",
         "3.3",
         "6",
         "dry"
        ],
        [
         "35",
         "red",
         "solid",
         "female",
         "4.5",
         "7",
         "dry"
        ],
        [
         "36",
         "black",
         "tortoise",
         "male",
         "4.6",
         "7",
         "other"
        ],
        [
         "37",
         "white",
         "solid",
         "male",
         "3.7",
         "8",
         "wet"
        ],
        [
         "38",
         "white",
         "tortoise",
         "male",
         "4.9",
         "7",
         "dry"
        ],
        [
         "39",
         "red",
         "tipped",
         "female",
         "5.7",
         "3",
         "dry"
        ],
        [
         "40",
         "white",
         "tipped",
         "male",
         "3.5",
         "4",
         "dry"
        ],
        [
         "41",
         "black",
         "tortoise",
         "male",
         "6.3",
         "10",
         "dry"
        ],
        [
         "42",
         "black",
         "solid",
         "female",
         "4.1",
         "6",
         "other"
        ],
        [
         "43",
         "white",
         "tortoise",
         "female",
         "5.7",
         "4",
         "dry"
        ],
        [
         "44",
         "white",
         "tipped",
         "male",
         "3.4",
         "7",
         "dry"
        ],
        [
         "45",
         "brown",
         "tortoise",
         "male",
         "4.7",
         "7",
         "dry"
        ],
        [
         "46",
         "brown",
         "solid",
         "female",
         "5.1",
         "5",
         "wet"
        ],
        [
         "47",
         "red",
         "tipped",
         "male",
         "6.5",
         "5",
         "other"
        ],
        [
         "48",
         "brown",
         "colorpoint",
         "female",
         "4.9",
         "2",
         "dry"
        ],
        [
         "49",
         "white",
         "tabby",
         "female",
         "2.9",
         "7",
         "dry"
        ]
       ],
       "shape": {
        "columns": 6,
        "rows": 153
       }
      },
      "text/html": [
       "<div>\n",
       "<style scoped>\n",
       "    .dataframe tbody tr th:only-of-type {\n",
       "        vertical-align: middle;\n",
       "    }\n",
       "\n",
       "    .dataframe tbody tr th {\n",
       "        vertical-align: top;\n",
       "    }\n",
       "\n",
       "    .dataframe thead th {\n",
       "        text-align: right;\n",
       "    }\n",
       "</style>\n",
       "<table border=\"1\" class=\"dataframe\">\n",
       "  <thead>\n",
       "    <tr style=\"text-align: right;\">\n",
       "      <th></th>\n",
       "      <th>haircolor</th>\n",
       "      <th>hairpattern</th>\n",
       "      <th>sex</th>\n",
       "      <th>weight</th>\n",
       "      <th>age</th>\n",
       "      <th>foodtype</th>\n",
       "    </tr>\n",
       "  </thead>\n",
       "  <tbody>\n",
       "    <tr>\n",
       "      <th>0</th>\n",
       "      <td>red</td>\n",
       "      <td>tortoise</td>\n",
       "      <td>female</td>\n",
       "      <td>3.7</td>\n",
       "      <td>7</td>\n",
       "      <td>dry</td>\n",
       "    </tr>\n",
       "    <tr>\n",
       "      <th>1</th>\n",
       "      <td>black</td>\n",
       "      <td>tipped</td>\n",
       "      <td>male</td>\n",
       "      <td>6.0</td>\n",
       "      <td>4</td>\n",
       "      <td>wet</td>\n",
       "    </tr>\n",
       "    <tr>\n",
       "      <th>2</th>\n",
       "      <td>black</td>\n",
       "      <td>tabby</td>\n",
       "      <td>male</td>\n",
       "      <td>5.4</td>\n",
       "      <td>4</td>\n",
       "      <td>dry</td>\n",
       "    </tr>\n",
       "    <tr>\n",
       "      <th>3</th>\n",
       "      <td>white</td>\n",
       "      <td>solid</td>\n",
       "      <td>male</td>\n",
       "      <td>5.0</td>\n",
       "      <td>4</td>\n",
       "      <td>dry</td>\n",
       "    </tr>\n",
       "    <tr>\n",
       "      <th>4</th>\n",
       "      <td>brown</td>\n",
       "      <td>tipped</td>\n",
       "      <td>female</td>\n",
       "      <td>3.3</td>\n",
       "      <td>6</td>\n",
       "      <td>dry</td>\n",
       "    </tr>\n",
       "    <tr>\n",
       "      <th>...</th>\n",
       "      <td>...</td>\n",
       "      <td>...</td>\n",
       "      <td>...</td>\n",
       "      <td>...</td>\n",
       "      <td>...</td>\n",
       "      <td>...</td>\n",
       "    </tr>\n",
       "    <tr>\n",
       "      <th>148</th>\n",
       "      <td>red</td>\n",
       "      <td>tortoise</td>\n",
       "      <td>male</td>\n",
       "      <td>3.7</td>\n",
       "      <td>10</td>\n",
       "      <td>dry</td>\n",
       "    </tr>\n",
       "    <tr>\n",
       "      <th>149</th>\n",
       "      <td>white</td>\n",
       "      <td>solid</td>\n",
       "      <td>female</td>\n",
       "      <td>4.5</td>\n",
       "      <td>5</td>\n",
       "      <td>dry</td>\n",
       "    </tr>\n",
       "    <tr>\n",
       "      <th>150</th>\n",
       "      <td>black</td>\n",
       "      <td>tabby</td>\n",
       "      <td>female</td>\n",
       "      <td>6.0</td>\n",
       "      <td>4</td>\n",
       "      <td>wet</td>\n",
       "    </tr>\n",
       "    <tr>\n",
       "      <th>151</th>\n",
       "      <td>white</td>\n",
       "      <td>tabby</td>\n",
       "      <td>female</td>\n",
       "      <td>5.3</td>\n",
       "      <td>8</td>\n",
       "      <td>dry</td>\n",
       "    </tr>\n",
       "    <tr>\n",
       "      <th>152</th>\n",
       "      <td>black</td>\n",
       "      <td>tabby</td>\n",
       "      <td>female</td>\n",
       "      <td>5.8</td>\n",
       "      <td>10</td>\n",
       "      <td>dry</td>\n",
       "    </tr>\n",
       "  </tbody>\n",
       "</table>\n",
       "<p>153 rows × 6 columns</p>\n",
       "</div>"
      ],
      "text/plain": [
       "    haircolor hairpattern     sex  weight  age foodtype\n",
       "0         red    tortoise  female     3.7    7      dry\n",
       "1       black      tipped    male     6.0    4      wet\n",
       "2       black       tabby    male     5.4    4      dry\n",
       "3       white       solid    male     5.0    4      dry\n",
       "4       brown      tipped  female     3.3    6      dry\n",
       "..        ...         ...     ...     ...  ...      ...\n",
       "148       red    tortoise    male     3.7   10      dry\n",
       "149     white       solid  female     4.5    5      dry\n",
       "150     black       tabby  female     6.0    4      wet\n",
       "151     white       tabby  female     5.3    8      dry\n",
       "152     black       tabby  female     5.8   10      dry\n",
       "\n",
       "[153 rows x 6 columns]"
      ]
     },
     "execution_count": 11,
     "metadata": {},
     "output_type": "execute_result"
    }
   ],
   "source": [
    "df"
   ]
  },
  {
   "cell_type": "code",
   "execution_count": 14,
   "id": "49c95cda-ff10-4b4a-9540-950cbfb4b9d0",
   "metadata": {},
   "outputs": [
    {
     "data": {
      "application/vnd.microsoft.datawrangler.viewer.v0+json": {
       "columns": [
        {
         "name": "index",
         "rawType": "int64",
         "type": "integer"
        },
        {
         "name": "age",
         "rawType": "int64",
         "type": "integer"
        }
       ],
       "ref": "39415a8e-f541-40e3-8be4-9907892bb9f6",
       "rows": [
        [
         "78",
         "14"
        ],
        [
         "21",
         "14"
        ],
        [
         "133",
         "14"
        ],
        [
         "53",
         "14"
        ],
        [
         "27",
         "13"
        ],
        [
         "73",
         "13"
        ],
        [
         "99",
         "13"
        ],
        [
         "32",
         "13"
        ],
        [
         "66",
         "12"
        ],
        [
         "63",
         "11"
        ],
        [
         "67",
         "11"
        ],
        [
         "91",
         "11"
        ],
        [
         "152",
         "10"
        ],
        [
         "30",
         "10"
        ],
        [
         "41",
         "10"
        ],
        [
         "57",
         "10"
        ],
        [
         "20",
         "10"
        ],
        [
         "89",
         "10"
        ],
        [
         "148",
         "10"
        ],
        [
         "144",
         "10"
        ],
        [
         "108",
         "9"
        ],
        [
         "84",
         "9"
        ],
        [
         "85",
         "9"
        ],
        [
         "141",
         "9"
        ],
        [
         "64",
         "9"
        ],
        [
         "125",
         "9"
        ],
        [
         "94",
         "9"
        ],
        [
         "62",
         "9"
        ],
        [
         "8",
         "8"
        ],
        [
         "60",
         "8"
        ],
        [
         "69",
         "8"
        ],
        [
         "151",
         "8"
        ],
        [
         "6",
         "8"
        ],
        [
         "77",
         "8"
        ],
        [
         "37",
         "8"
        ],
        [
         "56",
         "8"
        ],
        [
         "83",
         "8"
        ],
        [
         "136",
         "8"
        ],
        [
         "11",
         "8"
        ],
        [
         "28",
         "8"
        ],
        [
         "127",
         "8"
        ],
        [
         "124",
         "8"
        ],
        [
         "116",
         "8"
        ],
        [
         "112",
         "7"
        ],
        [
         "82",
         "7"
        ],
        [
         "137",
         "7"
        ],
        [
         "72",
         "7"
        ],
        [
         "70",
         "7"
        ],
        [
         "128",
         "7"
        ],
        [
         "90",
         "7"
        ]
       ],
       "shape": {
        "columns": 1,
        "rows": 153
       }
      },
      "text/plain": [
       "78     14\n",
       "21     14\n",
       "133    14\n",
       "53     14\n",
       "27     13\n",
       "       ..\n",
       "135     2\n",
       "13      2\n",
       "48      2\n",
       "106     2\n",
       "25      2\n",
       "Name: age, Length: 153, dtype: int64"
      ]
     },
     "execution_count": 14,
     "metadata": {},
     "output_type": "execute_result"
    }
   ],
   "source": [
    "df['age'].sort_values(ascending = False) # trier les ages par ordre decroissant"
   ]
  },
  {
   "cell_type": "code",
   "execution_count": null,
   "id": "1a46643b",
   "metadata": {},
   "outputs": [],
   "source": []
  }
 ],
 "metadata": {
  "kernelspec": {
   "display_name": "base",
   "language": "python",
   "name": "python3"
  },
  "language_info": {
   "codemirror_mode": {
    "name": "ipython",
    "version": 3
   },
   "file_extension": ".py",
   "mimetype": "text/x-python",
   "name": "python",
   "nbconvert_exporter": "python",
   "pygments_lexer": "ipython3",
   "version": "3.12.7"
  },
  "panel-cell-order": [
   "a4d61492-3f27-4b68-962b-e063ce73cbf0",
   "39683c7d-8d63-40a6-b832-0dc8ce62caab",
   "bd455190-467f-49f9-99e7-d3325a872bfb",
   "e5d1df2e-edec-4b06-8e98-b79828c94de4",
   "7648486f-2315-4f4d-ba9b-1d56203563cf",
   "fee809e1-3255-4631-afe2-f371914aa1c1",
   "b993697c-492b-4f47-a161-e10d87d083ae",
   "54a782d3-d94a-4f04-ab2a-a682e64685ee",
   "699733c2-00c9-4b7a-9636-70aaca5f13ee",
   "63121f26-bac8-4604-bf16-8ebababc4f94",
   "fb0c74f5-dfec-4bd9-9346-e9bcfa508f6e",
   "25822ec9-def8-4846-93c7-0c2c60acace2",
   "cd853a86-c9dd-48d0-9507-6695afb73ca5"
  ]
 },
 "nbformat": 4,
 "nbformat_minor": 5
}
